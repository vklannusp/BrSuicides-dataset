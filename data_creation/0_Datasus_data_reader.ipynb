{
  "cells": [
    {
      "cell_type": "markdown",
      "metadata": {},
      "source": [
        "# DATASUS Data Collector using PySUS\n",
        "\n",
        "##### use this on google colab or use on a linux distro, windows stopped working"
      ]
    },
    {
      "cell_type": "code",
      "execution_count": null,
      "metadata": {
        "colab": {
          "base_uri": "https://localhost:8080/"
        },
        "id": "nxLFEeiEs1yJ",
        "outputId": "aabeba6a-39e2-442b-a266-d57b85fd3d5f"
      },
      "outputs": [],
      "source": [
        "from google.colab import drive\n",
        "drive.mount('/content/drive')"
      ]
    },
    {
      "cell_type": "code",
      "execution_count": null,
      "metadata": {
        "colab": {
          "base_uri": "https://localhost:8080/"
        },
        "id": "9E8t_-49SOnm",
        "outputId": "e31b08fc-2246-4593-c9eb-234e3b4a0026"
      },
      "outputs": [],
      "source": [
        "import pkg_resources\n",
        "\n",
        "# Package checking list\n",
        "packages_to_check = [\n",
        "    {\n",
        "     'name': 'pandas',\n",
        "     'version':'1.5.3'\n",
        "     },\n",
        "    {\n",
        "     'name': 'pySUS',\n",
        "     'version': '0.9.4'\n",
        "     },\n",
        "    ]\n",
        "\n",
        "# check if necessary packages are installed, and install if not\n",
        "for package in packages_to_check:\n",
        "    print(package)\n",
        "    try:\n",
        "        pkg_resources.get_distribution(package['name'])\n",
        "        print(f\"{package['name']} is installed.\")\n",
        "    except pkg_resources.DistributionNotFound:\n",
        "        print(f\"{package['name']} is not installed. Installing:\")\n",
        "        %pip install {package['name']}=={package['version']}"
      ]
    },
    {
      "cell_type": "code",
      "execution_count": null,
      "metadata": {
        "id": "a9tUFA5Q33d1"
      },
      "outputs": [],
      "source": [
        "import pandas as pd\n",
        "from pysus.online_data.SIM import download"
      ]
    },
    {
      "cell_type": "code",
      "execution_count": null,
      "metadata": {
        "colab": {
          "base_uri": "https://localhost:8080/"
        },
        "id": "uUELe6tJODpU",
        "outputId": "c3622aa5-4987-4a95-dab3-de887a98a63b"
      },
      "outputs": [],
      "source": [
        "# USE THE FILE config_sample.py TO CREATE config.py TO MAKE \n",
        "import config\n",
        "\n",
        "# Definition of all states from all regions in Brazil\n",
        "states_sul = [\"PR\", \"RS\", \"SC\"]\n",
        "states_sudeste = [\"ES\", \"MG\", \"RJ\", \"SP\"]\n",
        "states_nordeste = [\"AL\", \"BA\", \"CE\", \"MA\", \"PE\", \"PI\", \"PB\", \"RN\", \"SE\"]\n",
        "states_norte = [\"AC\", \"AM\", \"AP\", \"PA\", \"RO\", \"RR\", \"TO\"]\n",
        "states_centrooeste = [\"DF\", \"GO\", \"MS\", \"MT\"]\n",
        "\n",
        "# Initialization of all_states, that contain all states in Brazil\n",
        "all_states = states_sul + states_sudeste + states_nordeste + states_norte + states_centrooeste\n",
        "\n",
        "# Initialization of states_to_download, which will determine which states'\n",
        "# data will be downloaded\n",
        "states_to_download = all_states\n",
        "print(\"States that will be downloaded:\", states_to_download, '\\n')\n",
        "\n",
        "# Years that will be downloaded, [1996,2023) interval\n",
        "years_to_download = [x for x in range(1996, 2023)]\n",
        "print(\"Years that will be downloaded:\", years_to_download, '\\n')\n",
        "\n",
        "# Iteration of years\n",
        "for i_year in years_to_download:\n",
        "  # Initialization of data dictionary\n",
        "  states_dict = {}\n",
        "\n",
        "  # Iteration of states\n",
        "  for i_state in states_to_download:\n",
        "    # Store (state, year) data in states_dict\n",
        "    states_dict[i_state, i_year] = download(i_state, i_year)\n",
        "    print(str(i_state) + \" database from \" + str(i_year) + \" downloaded!\")\n",
        "\n",
        "  print('states_dict result:', '\\n', states_dict, '\\n')\n",
        "\n",
        "  # Initialization of data_df, which contains the states data in the current iterated year\n",
        "  data_df = pd.concat({k: pd.DataFrame.from_dict(pd.read_parquet(v)) for k, v in states_dict.items()}, axis=0).reset_index()\n",
        "  # For PySUS version 0.10^\n",
        "  # data_df = pd.concat({k: pd.DataFrame.from_dict(v.to_dataframe()) for k, v in states_dict.items()}, axis=0).reset_index()\n",
        "\n",
        "  # Trailing whitespace striping otherwise comparisons don't work 💀\n",
        "  data_df[\"CAUSABAS\"] = data_df[\"CAUSABAS\"].str.strip()\n",
        "\n",
        "  # Keep only codes that correspond to suicide\n",
        "  icd10_filter_list = [\"X{}\".format(x) for x in range(600, 850)]\n",
        "  suicides_df = data_df[data_df[\"CAUSABAS\"].isin(icd10_filter_list)]\n",
        "\n",
        "  # Renaming columns to names that make sense\n",
        "  suicides_df.rename(columns={\"level_0\": \"ESTADO\", \"level_1\": \"ANO\"}, inplace=True)\n",
        "\n",
        "  # Define user folder path\n",
        "  user_dir_path = config.get_user_folder_path()\n",
        "\n",
        "  # Upload to chosen folder\n",
        "  suicides_df.to_csv(config.get_user_folder_path_to_save() + user_dir_path +'/' + str(i_year) + '.csv', index=False)\n",
        "\n",
        "  # Use parquets if RAM explodes\n",
        "  # suicides_df.to_parquet('/content/drive/My Drive/'+ user_dir_path +'/' + str(i_year) + '.parquet', index=False)\n",
        "\n",
        "  # End of year iteration\n",
        "\n",
        "print(\"Download and upload finished!\")"
      ]
    }
  ],
  "metadata": {
    "colab": {
      "provenance": []
    },
    "kernelspec": {
      "display_name": "Python 3",
      "name": "python3"
    },
    "language_info": {
      "codemirror_mode": {
        "name": "ipython",
        "version": 3
      },
      "file_extension": ".py",
      "mimetype": "text/x-python",
      "name": "python",
      "nbconvert_exporter": "python",
      "pygments_lexer": "ipython3",
      "version": "3.12.3"
    }
  },
  "nbformat": 4,
  "nbformat_minor": 0
}
