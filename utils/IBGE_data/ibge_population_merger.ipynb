{
 "cells": [
  {
   "cell_type": "markdown",
   "metadata": {},
   "source": [
    "### LINKS FOR REFERENCE\n",
    "\n",
    "https://biblioteca.ibge.gov.br/visualizacao/periodicos/308/cd_2000_v7.pdf\n",
    "\n",
    "Site usado pelo boletim do SVS:\n",
    "“As taxas de mortalidade foram calculadas com base nas projeções populacionais do Instituto Brasileiro de Geografia e Estatísticas (IBGE), tendo como população padrão estrutura etária da projeção populacional para o ano de 2010.”\n",
    "https://www.ibge.gov.br/estatisticas/sociais/populacao/9662-censo-demografico-2010.html?edicao=9673\n",
    "\n",
    "Population Census\n",
    "\n",
    "https://www.ibge.gov.br/estatisticas/sociais/populacao/9103-estimativas-de-populacao.html\n",
    "\n",
    "https://sidra.ibge.gov.br/pesquisa/censo-demografico/demografico-2022/inicial\n",
    "\n",
    "\n",
    "Population estimates:\n",
    "\n",
    "https://sidra.ibge.gov.br/tabela/6579\n",
    "\n",
    "\n",
    "#### Types of population count:\n",
    "\n",
    "Census/Count: 1996, 2000, 2010, 2022\n",
    "\n",
    "Estimates: 1997 to 1999, 2001 to 2009, 2011 to 2021"
   ]
  },
  {
   "cell_type": "code",
   "execution_count": null,
   "metadata": {},
   "outputs": [],
   "source": []
  }
 ],
 "metadata": {
  "language_info": {
   "name": "python"
  }
 },
 "nbformat": 4,
 "nbformat_minor": 2
}
